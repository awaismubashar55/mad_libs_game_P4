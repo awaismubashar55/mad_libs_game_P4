{
  "cells": [
    {
      "cell_type": "markdown",
      "metadata": {
        "id": "pcQxxflWyuye"
      },
      "source": [
        "# Python Beginner Project: Mad Libs Game"
      ]
    },
    {
      "cell_type": "markdown",
      "metadata": {
        "id": "2ga6ZqUYy5IF"
      },
      "source": [
        "# **Project Introduction**\n",
        "\n",
        "**Mad Libs is a word game where the program asks the user for different types of words (noun, verb, adjective, etc.) and then fills them into a story template to create something funny or silly.**\n",
        "\n",
        "Skills you’ll learn:\n",
        "\n",
        "\n",
        "*   Variables\n",
        "*   Input/Output\n",
        "*   String concatenation & formatting\n",
        "*   Functions\n",
        "*   Loops & conditions\n",
        "\n"
      ]
    },
    {
      "cell_type": "markdown",
      "metadata": {
        "id": "JaT_lqYqzYZU"
      },
      "source": [
        "**Step 1: Start with a Simple Story**\n",
        "\n",
        "We will create a basic story with blanks to fill."
      ]
    },
    {
      "cell_type": "code",
      "execution_count": null,
      "metadata": {
        "colab": {
          "base_uri": "https://localhost:8080/"
        },
        "id": "3eH_JwvHy1i0",
        "outputId": "34a1a949-ea77-4b16-9c4f-e8ae8c018228"
      },
      "outputs": [
        {
          "name": "stdout",
          "output_type": "stream",
          "text": [
            "Welcome to the Mad Libs Game!\n"
          ]
        }
      ],
      "source": [
        "# Simple story template\n",
        "print(\"Welcome to the Mad Libs Game!\")\n",
        "# Ask user for words\n",
        "noun = input(\"Enter a noun: \")\n",
        "verb = input(\"Enter a verb: \")\n",
        "adjective = input(\"Enter an adjective: \")\n",
        "place = input(\"Enter a place: \")\n",
        "# Insert into story\n",
        "print(\"\\nHere is your Mad Libs story:\\n\")\n",
        "print(f\"One day, a {adjective} {noun} decided to {verb} at {place}.\")"
      ]
    },
    {
      "cell_type": "markdown",
      "metadata": {
        "id": "hfHetidU0zMM"
      },
      "source": [
        "**Step 2: Add More Word Types**"
      ]
    },
    {
      "cell_type": "code",
      "execution_count": null,
      "metadata": {
        "id": "TcDQFi4U00kD"
      },
      "outputs": [],
      "source": [
        "# More words\n",
        "animal = input(\"Enter an animal: \")\n",
        "food = input(\"Enter a food: \")\n",
        "emotion = input(\"Enter an emotion: \")\n",
        "\n",
        "print(\"\\nYour extended Mad Libs story:\\n\")\n",
        "print(f\"One day, a {adjective} {noun} decided to {verb} at {place}.\")\n",
        "print(f\"On the way, it saw a {animal} eating {food}.\")\n",
        "print(f\"That made the {noun} feel very {emotion}.\")"
      ]
    },
    {
      "cell_type": "markdown",
      "metadata": {
        "id": "YzA_Lwim1wYq"
      },
      "source": [
        "**Step 3: Put the Story in a Function**"
      ]
    },
    {
      "cell_type": "code",
      "execution_count": null,
      "metadata": {
        "id": "lJ2QlNZ-1yuS"
      },
      "outputs": [],
      "source": [
        "def mad_libs():\n",
        "    noun = input(\"Enter a noun: \")\n",
        "    verb = input(\"Enter a verb: \")\n",
        "    adjective = input(\"Enter an adjective: \")\n",
        "    place = input(\"Enter a place: \")\n",
        "    animal = input(\"Enter an animal: \")\n",
        "    food = input(\"Enter a food: \")\n",
        "    emotion = input(\"Enter an emotion: \")\n",
        "\n",
        "    print(\"\\n--- Your Funny Mad Libs Story ---\\n\")\n",
        "    print(f\"One day, a {adjective} {noun} decided to {verb} at {place}.\")\n",
        "    print(f\"On the way, it saw a {animal} eating {food}.\")\n",
        "    print(f\"That made the {noun} feel very {emotion}.\")\n",
        "    print(\"\\n--- The End ---\")\n",
        "\n",
        "# Call the function\n",
        "mad_libs()"
      ]
    },
    {
      "cell_type": "markdown",
      "metadata": {
        "id": "9yLPT0Yc2MZB"
      },
      "source": [
        "**Step 5: Add Random Story Templates**"
      ]
    },
    {
      "cell_type": "code",
      "execution_count": null,
      "metadata": {
        "id": "YNGdgjYU11hR"
      },
      "outputs": [],
      "source": [
        "while True:\n",
        "    mad_libs()\n",
        "    again = input(\"\\nDo you want to play again? (yes/no): \").lower()\n",
        "    if again != \"yes\":\n",
        "        print(\"Thanks for playing Mad Libs! Goodbye!\")\n",
        "        break\n"
      ]
    },
    {
      "cell_type": "markdown",
      "metadata": {
        "id": "SXKUHxea3pj3"
      },
      "source": [
        "**Step 6: Add Random Story Templates**"
      ]
    },
    {
      "cell_type": "code",
      "execution_count": null,
      "metadata": {
        "id": "TIsJZPYf3m5Y"
      },
      "outputs": [],
      "source": [
        "import random\n",
        "\n",
        "def mad_libs():\n",
        "    # Ask for words\n",
        "    noun = input(\"Enter a noun: \")\n",
        "    verb = input(\"Enter a verb: \")\n",
        "    adjective = input(\"Enter an adjective: \")\n",
        "    place = input(\"Enter a place: \")\n",
        "    animal = input(\"Enter an animal: \")\n",
        "    food = input(\"Enter a food: \")\n",
        "    emotion = input(\"Enter an emotion: \")\n",
        "\n",
        "    # Story templates\n",
        "    stories = [\n",
        "        f\"One day, a {adjective} {noun} decided to {verb} at {place}.\",\n",
        "        f\"At {place}, a {noun} and a {animal} were arguing about {food}.\",\n",
        "        f\"The {adjective} {animal} made the {noun} feel {emotion} while trying to {verb}.\",\n",
        "    ]\n",
        "\n",
        "    # Pick random story\n",
        "    print(\"\\n--- Your Random Mad Libs Story ---\\n\")\n",
        "    print(random.choice(stories))\n",
        "    print(\"\\n--- The End ---\")\n",
        "\n",
        "# Loop to replay\n",
        "while True:\n",
        "    mad_libs()\n",
        "    again = input(\"\\nDo you want to play again? (yes/no): \").lower()\n",
        "    if again != \"yes\":\n",
        "        print(\"Thanks for playing Mad Libs! Goodbye!\")\n",
        "        break\n"
      ]
    }
  ],
  "metadata": {
    "colab": {
      "provenance": []
    },
    "kernelspec": {
      "display_name": "Python 3",
      "name": "python3"
    },
    "language_info": {
      "name": "python"
    }
  },
  "nbformat": 4,
  "nbformat_minor": 0
}
